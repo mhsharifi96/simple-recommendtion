{
 "cells": [
  {
   "cell_type": "code",
   "execution_count": 1,
   "metadata": {},
   "outputs": [
    {
     "ename": "ModuleNotFoundError",
     "evalue": "No module named 'pandas'",
     "output_type": "error",
     "traceback": [
      "\u001b[1;31m---------------------------------------------------------------------------\u001b[0m",
      "\u001b[1;31mModuleNotFoundError\u001b[0m                       Traceback (most recent call last)",
      "\u001b[1;32mc:\\Users\\mohammad hossein\\Documents\\digikala\\simple-recommendtion\\code.ipynb Cell 1'\u001b[0m in \u001b[0;36m<cell line: 1>\u001b[1;34m()\u001b[0m\n\u001b[1;32m----> <a href='vscode-notebook-cell:/c%3A/Users/mohammad%20hossein/Documents/digikala/simple-recommendtion/code.ipynb#ch0000000?line=0'>1</a>\u001b[0m \u001b[39mimport\u001b[39;00m \u001b[39mpandas\u001b[39;00m \u001b[39mas\u001b[39;00m \u001b[39mpd\u001b[39;00m\n\u001b[0;32m      <a href='vscode-notebook-cell:/c%3A/Users/mohammad%20hossein/Documents/digikala/simple-recommendtion/code.ipynb#ch0000000?line=1'>2</a>\u001b[0m \u001b[39mimport\u001b[39;00m \u001b[39mnumpy\u001b[39;00m \u001b[39mas\u001b[39;00m \u001b[39mnp\u001b[39;00m\n\u001b[0;32m      <a href='vscode-notebook-cell:/c%3A/Users/mohammad%20hossein/Documents/digikala/simple-recommendtion/code.ipynb#ch0000000?line=2'>3</a>\u001b[0m \u001b[39mimport\u001b[39;00m \u001b[39mmatplotlib\u001b[39;00m\u001b[39m.\u001b[39;00m\u001b[39mpyplot\u001b[39;00m \u001b[39mas\u001b[39;00m \u001b[39mplt\u001b[39;00m\n",
      "\u001b[1;31mModuleNotFoundError\u001b[0m: No module named 'pandas'"
     ]
    }
   ],
   "source": [
    "import pandas as pd\n",
    "import numpy as np\n",
    "import matplotlib.pyplot as plt\n",
    "import seaborn as sns\n",
    "import datetime as dt\n",
    "from matplotlib import colors\n",
    "import seaborn as sns\n",
    "import statistics\n",
    "\n",
    "# import required libraries for clustering\n",
    "import sklearn\n",
    "from sklearn.preprocessing import StandardScaler\n",
    "from sklearn.cluster import KMeans\n",
    "from sklearn.metrics import silhouette_score\n",
    "from scipy.cluster.hierarchy import linkage\n",
    "from scipy.cluster.hierarchy import dendrogram\n",
    "from scipy.cluster.hierarchy import cut_tree"
   ]
  },
  {
   "cell_type": "code",
   "execution_count": 48,
   "metadata": {},
   "outputs": [],
   "source": [
    "pd.options.display.float_format = '{:.2f}'.format"
   ]
  },
  {
   "cell_type": "code",
   "execution_count": 2,
   "metadata": {},
   "outputs": [],
   "source": [
    "retail = pd.read_excel('data/orginal/orders.xlsx')\n"
   ]
  },
  {
   "cell_type": "code",
   "execution_count": 3,
   "metadata": {},
   "outputs": [
    {
     "data": {
      "text/html": [
       "<div>\n",
       "<style scoped>\n",
       "    .dataframe tbody tr th:only-of-type {\n",
       "        vertical-align: middle;\n",
       "    }\n",
       "\n",
       "    .dataframe tbody tr th {\n",
       "        vertical-align: top;\n",
       "    }\n",
       "\n",
       "    .dataframe thead th {\n",
       "        text-align: right;\n",
       "    }\n",
       "</style>\n",
       "<table border=\"1\" class=\"dataframe\">\n",
       "  <thead>\n",
       "    <tr style=\"text-align: right;\">\n",
       "      <th></th>\n",
       "      <th>order_id</th>\n",
       "      <th>user_id</th>\n",
       "      <th>variant_id</th>\n",
       "      <th>product_id</th>\n",
       "      <th>quantity</th>\n",
       "      <th>price</th>\n",
       "      <th>date</th>\n",
       "      <th>city_id</th>\n",
       "      <th>city_name</th>\n",
       "      <th>state_id</th>\n",
       "      <th>state_name</th>\n",
       "    </tr>\n",
       "  </thead>\n",
       "  <tbody>\n",
       "    <tr>\n",
       "      <th>0</th>\n",
       "      <td>262108413</td>\n",
       "      <td>SlcW7YT835JSzh22o7zRCA==</td>\n",
       "      <td>922274</td>\n",
       "      <td>406523</td>\n",
       "      <td>1</td>\n",
       "      <td>139000</td>\n",
       "      <td>2018-08-20 23:59:02</td>\n",
       "      <td>1698</td>\n",
       "      <td>تهران</td>\n",
       "      <td>9</td>\n",
       "      <td>تهران</td>\n",
       "    </tr>\n",
       "    <tr>\n",
       "      <th>1</th>\n",
       "      <td>262108413</td>\n",
       "      <td>SlcW7YT835JSzh22o7zRCA==</td>\n",
       "      <td>685868</td>\n",
       "      <td>435013</td>\n",
       "      <td>1</td>\n",
       "      <td>890000</td>\n",
       "      <td>2018-08-20 23:59:02</td>\n",
       "      <td>1698</td>\n",
       "      <td>تهران</td>\n",
       "      <td>9</td>\n",
       "      <td>تهران</td>\n",
       "    </tr>\n",
       "    <tr>\n",
       "      <th>2</th>\n",
       "      <td>262108353</td>\n",
       "      <td>NZidrSuPdqoG7RedrFakeA==</td>\n",
       "      <td>275077</td>\n",
       "      <td>163947</td>\n",
       "      <td>1</td>\n",
       "      <td>9890000</td>\n",
       "      <td>2018-08-20 23:58:39</td>\n",
       "      <td>1698</td>\n",
       "      <td>تهران</td>\n",
       "      <td>9</td>\n",
       "      <td>تهران</td>\n",
       "    </tr>\n",
       "  </tbody>\n",
       "</table>\n",
       "</div>"
      ],
      "text/plain": [
       "    order_id                   user_id  variant_id  product_id  quantity  \\\n",
       "0  262108413  SlcW7YT835JSzh22o7zRCA==      922274      406523         1   \n",
       "1  262108413  SlcW7YT835JSzh22o7zRCA==      685868      435013         1   \n",
       "2  262108353  NZidrSuPdqoG7RedrFakeA==      275077      163947         1   \n",
       "\n",
       "     price                 date  city_id city_name  state_id state_name  \n",
       "0   139000  2018-08-20 23:59:02     1698     تهران         9      تهران  \n",
       "1   890000  2018-08-20 23:59:02     1698     تهران         9      تهران  \n",
       "2  9890000  2018-08-20 23:58:39     1698     تهران         9      تهران  "
      ]
     },
     "execution_count": 3,
     "metadata": {},
     "output_type": "execute_result"
    }
   ],
   "source": [
    "retail.head(3)"
   ]
  },
  {
   "cell_type": "code",
   "execution_count": 4,
   "metadata": {},
   "outputs": [
    {
     "data": {
      "text/html": [
       "<div>\n",
       "<style scoped>\n",
       "    .dataframe tbody tr th:only-of-type {\n",
       "        vertical-align: middle;\n",
       "    }\n",
       "\n",
       "    .dataframe tbody tr th {\n",
       "        vertical-align: top;\n",
       "    }\n",
       "\n",
       "    .dataframe thead th {\n",
       "        text-align: right;\n",
       "    }\n",
       "</style>\n",
       "<table border=\"1\" class=\"dataframe\">\n",
       "  <thead>\n",
       "    <tr style=\"text-align: right;\">\n",
       "      <th></th>\n",
       "      <th>user_id</th>\n",
       "      <th>Monetary</th>\n",
       "    </tr>\n",
       "  </thead>\n",
       "  <tbody>\n",
       "    <tr>\n",
       "      <th>0</th>\n",
       "      <td>++2u4Q40bTeC0ZZDau1MIQ==</td>\n",
       "      <td>1082000</td>\n",
       "    </tr>\n",
       "    <tr>\n",
       "      <th>1</th>\n",
       "      <td>++HwHhPvBHtXEIN36fDT5w==</td>\n",
       "      <td>1414000</td>\n",
       "    </tr>\n",
       "    <tr>\n",
       "      <th>2</th>\n",
       "      <td>++IfjhhQ33j7i4NHdBUJkQ==</td>\n",
       "      <td>990000</td>\n",
       "    </tr>\n",
       "    <tr>\n",
       "      <th>3</th>\n",
       "      <td>++KPSp+1ZC6KXlYAS8VcKg==</td>\n",
       "      <td>1690500</td>\n",
       "    </tr>\n",
       "    <tr>\n",
       "      <th>4</th>\n",
       "      <td>++XCbp2ChGJyYhM/fYWudg==</td>\n",
       "      <td>1150000</td>\n",
       "    </tr>\n",
       "  </tbody>\n",
       "</table>\n",
       "</div>"
      ],
      "text/plain": [
       "                    user_id  Monetary\n",
       "0  ++2u4Q40bTeC0ZZDau1MIQ==   1082000\n",
       "1  ++HwHhPvBHtXEIN36fDT5w==   1414000\n",
       "2  ++IfjhhQ33j7i4NHdBUJkQ==    990000\n",
       "3  ++KPSp+1ZC6KXlYAS8VcKg==   1690500\n",
       "4  ++XCbp2ChGJyYhM/fYWudg==   1150000"
      ]
     },
     "execution_count": 4,
     "metadata": {},
     "output_type": "execute_result"
    }
   ],
   "source": [
    "# New Attribute : Monetary\n",
    "\n",
    "retail['Monetary']= retail['quantity']*retail['price']\n",
    "rfm_m = retail.groupby('user_id')['Monetary'].sum()\n",
    "rfm_m = rfm_m.reset_index()\n",
    "rfm_m.columns = ['user_id', 'Monetary']\n",
    "rfm_m.head()"
   ]
  },
  {
   "cell_type": "code",
   "execution_count": 5,
   "metadata": {},
   "outputs": [
    {
     "data": {
      "text/html": [
       "<div>\n",
       "<style scoped>\n",
       "    .dataframe tbody tr th:only-of-type {\n",
       "        vertical-align: middle;\n",
       "    }\n",
       "\n",
       "    .dataframe tbody tr th {\n",
       "        vertical-align: top;\n",
       "    }\n",
       "\n",
       "    .dataframe thead th {\n",
       "        text-align: right;\n",
       "    }\n",
       "</style>\n",
       "<table border=\"1\" class=\"dataframe\">\n",
       "  <thead>\n",
       "    <tr style=\"text-align: right;\">\n",
       "      <th></th>\n",
       "      <th>user_id</th>\n",
       "      <th>Frequency</th>\n",
       "    </tr>\n",
       "  </thead>\n",
       "  <tbody>\n",
       "    <tr>\n",
       "      <th>0</th>\n",
       "      <td>++2u4Q40bTeC0ZZDau1MIQ==</td>\n",
       "      <td>1</td>\n",
       "    </tr>\n",
       "    <tr>\n",
       "      <th>1</th>\n",
       "      <td>++HwHhPvBHtXEIN36fDT5w==</td>\n",
       "      <td>1</td>\n",
       "    </tr>\n",
       "    <tr>\n",
       "      <th>2</th>\n",
       "      <td>++IfjhhQ33j7i4NHdBUJkQ==</td>\n",
       "      <td>1</td>\n",
       "    </tr>\n",
       "    <tr>\n",
       "      <th>3</th>\n",
       "      <td>++KPSp+1ZC6KXlYAS8VcKg==</td>\n",
       "      <td>1</td>\n",
       "    </tr>\n",
       "    <tr>\n",
       "      <th>4</th>\n",
       "      <td>++XCbp2ChGJyYhM/fYWudg==</td>\n",
       "      <td>1</td>\n",
       "    </tr>\n",
       "  </tbody>\n",
       "</table>\n",
       "</div>"
      ],
      "text/plain": [
       "                    user_id  Frequency\n",
       "0  ++2u4Q40bTeC0ZZDau1MIQ==          1\n",
       "1  ++HwHhPvBHtXEIN36fDT5w==          1\n",
       "2  ++IfjhhQ33j7i4NHdBUJkQ==          1\n",
       "3  ++KPSp+1ZC6KXlYAS8VcKg==          1\n",
       "4  ++XCbp2ChGJyYhM/fYWudg==          1"
      ]
     },
     "execution_count": 5,
     "metadata": {},
     "output_type": "execute_result"
    }
   ],
   "source": [
    "# New Attribute : Frequency\n",
    "\n",
    "rfm_f = retail.groupby('user_id')['order_id'].nunique()\n",
    "\n",
    "rfm_f = rfm_f.reset_index()\n",
    "rfm_f.columns = ['user_id', 'Frequency']\n",
    "rfm_f.head()"
   ]
  },
  {
   "cell_type": "code",
   "execution_count": 6,
   "metadata": {},
   "outputs": [
    {
     "data": {
      "text/plain": [
       "'this df show orders for 8 days 17:39:43'"
      ]
     },
     "execution_count": 6,
     "metadata": {},
     "output_type": "execute_result"
    }
   ],
   "source": [
    "# New Attribute : Recency\n",
    "# Convert to datetime to proper datatype\n",
    "retail['date'] = pd.to_datetime(retail['date'],format='%Y-%m-%d %H:%M:%S')\n",
    "\n",
    "# Compute the maximum date to know the last transaction date\n",
    "max_date = retail['date'].max()\n",
    "\n",
    "# Compute the minimum date to know the last transaction date\n",
    "min_date = retail['date'].min()\n",
    "\n",
    "f\"this df show orders for {max_date - min_date}\""
   ]
  },
  {
   "cell_type": "code",
   "execution_count": 7,
   "metadata": {},
   "outputs": [
    {
     "data": {
      "text/html": [
       "<div>\n",
       "<style scoped>\n",
       "    .dataframe tbody tr th:only-of-type {\n",
       "        vertical-align: middle;\n",
       "    }\n",
       "\n",
       "    .dataframe tbody tr th {\n",
       "        vertical-align: top;\n",
       "    }\n",
       "\n",
       "    .dataframe thead th {\n",
       "        text-align: right;\n",
       "    }\n",
       "</style>\n",
       "<table border=\"1\" class=\"dataframe\">\n",
       "  <thead>\n",
       "    <tr style=\"text-align: right;\">\n",
       "      <th></th>\n",
       "      <th>order_id</th>\n",
       "      <th>user_id</th>\n",
       "      <th>variant_id</th>\n",
       "      <th>product_id</th>\n",
       "      <th>quantity</th>\n",
       "      <th>price</th>\n",
       "      <th>date</th>\n",
       "      <th>city_id</th>\n",
       "      <th>city_name</th>\n",
       "      <th>state_id</th>\n",
       "      <th>state_name</th>\n",
       "      <th>Monetary</th>\n",
       "      <th>Diff</th>\n",
       "    </tr>\n",
       "  </thead>\n",
       "  <tbody>\n",
       "    <tr>\n",
       "      <th>199995</th>\n",
       "      <td>258838077</td>\n",
       "      <td>chbca7XuHDG/7OJPls3fNA==</td>\n",
       "      <td>494706</td>\n",
       "      <td>340247</td>\n",
       "      <td>1</td>\n",
       "      <td>40000</td>\n",
       "      <td>2018-08-12 06:21:26</td>\n",
       "      <td>1698</td>\n",
       "      <td>تهران</td>\n",
       "      <td>9</td>\n",
       "      <td>تهران</td>\n",
       "      <td>40000</td>\n",
       "      <td>8 days 17:37:36</td>\n",
       "    </tr>\n",
       "    <tr>\n",
       "      <th>199996</th>\n",
       "      <td>258838077</td>\n",
       "      <td>chbca7XuHDG/7OJPls3fNA==</td>\n",
       "      <td>823091</td>\n",
       "      <td>389988</td>\n",
       "      <td>1</td>\n",
       "      <td>325000</td>\n",
       "      <td>2018-08-12 06:21:26</td>\n",
       "      <td>1698</td>\n",
       "      <td>تهران</td>\n",
       "      <td>9</td>\n",
       "      <td>تهران</td>\n",
       "      <td>325000</td>\n",
       "      <td>8 days 17:37:36</td>\n",
       "    </tr>\n",
       "    <tr>\n",
       "      <th>199997</th>\n",
       "      <td>258838077</td>\n",
       "      <td>chbca7XuHDG/7OJPls3fNA==</td>\n",
       "      <td>483089</td>\n",
       "      <td>334477</td>\n",
       "      <td>1</td>\n",
       "      <td>1750000</td>\n",
       "      <td>2018-08-12 06:21:26</td>\n",
       "      <td>1698</td>\n",
       "      <td>تهران</td>\n",
       "      <td>9</td>\n",
       "      <td>تهران</td>\n",
       "      <td>1750000</td>\n",
       "      <td>8 days 17:37:36</td>\n",
       "    </tr>\n",
       "    <tr>\n",
       "      <th>199998</th>\n",
       "      <td>258838077</td>\n",
       "      <td>chbca7XuHDG/7OJPls3fNA==</td>\n",
       "      <td>1129695</td>\n",
       "      <td>640539</td>\n",
       "      <td>1</td>\n",
       "      <td>184000</td>\n",
       "      <td>2018-08-12 06:21:26</td>\n",
       "      <td>1698</td>\n",
       "      <td>تهران</td>\n",
       "      <td>9</td>\n",
       "      <td>تهران</td>\n",
       "      <td>184000</td>\n",
       "      <td>8 days 17:37:36</td>\n",
       "    </tr>\n",
       "    <tr>\n",
       "      <th>199999</th>\n",
       "      <td>258838041</td>\n",
       "      <td>OVCXfcaxQtqLzmy1U8A7eg==</td>\n",
       "      <td>1033353</td>\n",
       "      <td>568751</td>\n",
       "      <td>1</td>\n",
       "      <td>170000</td>\n",
       "      <td>2018-08-12 06:19:19</td>\n",
       "      <td>1442</td>\n",
       "      <td>بوکان</td>\n",
       "      <td>3</td>\n",
       "      <td>آذربایجان غربی</td>\n",
       "      <td>170000</td>\n",
       "      <td>8 days 17:39:43</td>\n",
       "    </tr>\n",
       "  </tbody>\n",
       "</table>\n",
       "</div>"
      ],
      "text/plain": [
       "         order_id                   user_id  variant_id  product_id  quantity  \\\n",
       "199995  258838077  chbca7XuHDG/7OJPls3fNA==      494706      340247         1   \n",
       "199996  258838077  chbca7XuHDG/7OJPls3fNA==      823091      389988         1   \n",
       "199997  258838077  chbca7XuHDG/7OJPls3fNA==      483089      334477         1   \n",
       "199998  258838077  chbca7XuHDG/7OJPls3fNA==     1129695      640539         1   \n",
       "199999  258838041  OVCXfcaxQtqLzmy1U8A7eg==     1033353      568751         1   \n",
       "\n",
       "          price                date  city_id city_name  state_id  \\\n",
       "199995    40000 2018-08-12 06:21:26     1698     تهران         9   \n",
       "199996   325000 2018-08-12 06:21:26     1698     تهران         9   \n",
       "199997  1750000 2018-08-12 06:21:26     1698     تهران         9   \n",
       "199998   184000 2018-08-12 06:21:26     1698     تهران         9   \n",
       "199999   170000 2018-08-12 06:19:19     1442     بوکان         3   \n",
       "\n",
       "            state_name  Monetary            Diff  \n",
       "199995           تهران     40000 8 days 17:37:36  \n",
       "199996           تهران    325000 8 days 17:37:36  \n",
       "199997           تهران   1750000 8 days 17:37:36  \n",
       "199998           تهران    184000 8 days 17:37:36  \n",
       "199999  آذربایجان غربی    170000 8 days 17:39:43  "
      ]
     },
     "execution_count": 7,
     "metadata": {},
     "output_type": "execute_result"
    }
   ],
   "source": [
    "# Compute the difference between max date and transaction date\n",
    "retail['Diff'] = max_date - retail['date']\n",
    "retail.tail()\n"
   ]
  },
  {
   "cell_type": "code",
   "execution_count": 8,
   "metadata": {},
   "outputs": [
    {
     "data": {
      "text/html": [
       "<div>\n",
       "<style scoped>\n",
       "    .dataframe tbody tr th:only-of-type {\n",
       "        vertical-align: middle;\n",
       "    }\n",
       "\n",
       "    .dataframe tbody tr th {\n",
       "        vertical-align: top;\n",
       "    }\n",
       "\n",
       "    .dataframe thead th {\n",
       "        text-align: right;\n",
       "    }\n",
       "</style>\n",
       "<table border=\"1\" class=\"dataframe\">\n",
       "  <thead>\n",
       "    <tr style=\"text-align: right;\">\n",
       "      <th></th>\n",
       "      <th>user_id</th>\n",
       "      <th>Recency</th>\n",
       "    </tr>\n",
       "  </thead>\n",
       "  <tbody>\n",
       "    <tr>\n",
       "      <th>0</th>\n",
       "      <td>++2u4Q40bTeC0ZZDau1MIQ==</td>\n",
       "      <td>0</td>\n",
       "    </tr>\n",
       "    <tr>\n",
       "      <th>1</th>\n",
       "      <td>++HwHhPvBHtXEIN36fDT5w==</td>\n",
       "      <td>1</td>\n",
       "    </tr>\n",
       "    <tr>\n",
       "      <th>2</th>\n",
       "      <td>++IfjhhQ33j7i4NHdBUJkQ==</td>\n",
       "      <td>7</td>\n",
       "    </tr>\n",
       "    <tr>\n",
       "      <th>3</th>\n",
       "      <td>++KPSp+1ZC6KXlYAS8VcKg==</td>\n",
       "      <td>6</td>\n",
       "    </tr>\n",
       "    <tr>\n",
       "      <th>4</th>\n",
       "      <td>++XCbp2ChGJyYhM/fYWudg==</td>\n",
       "      <td>8</td>\n",
       "    </tr>\n",
       "  </tbody>\n",
       "</table>\n",
       "</div>"
      ],
      "text/plain": [
       "                    user_id  Recency\n",
       "0  ++2u4Q40bTeC0ZZDau1MIQ==        0\n",
       "1  ++HwHhPvBHtXEIN36fDT5w==        1\n",
       "2  ++IfjhhQ33j7i4NHdBUJkQ==        7\n",
       "3  ++KPSp+1ZC6KXlYAS8VcKg==        6\n",
       "4  ++XCbp2ChGJyYhM/fYWudg==        8"
      ]
     },
     "execution_count": 8,
     "metadata": {},
     "output_type": "execute_result"
    }
   ],
   "source": [
    "# Compute last transaction date to get the recency of customers\n",
    "rfm_r = retail.groupby('user_id')['Diff'].min()\n",
    "rfm_r = rfm_r.reset_index()\n",
    "rfm_r.columns = ['user_id', 'Recency']\n",
    "rfm_r['Recency'] = rfm_r['Recency'].dt.days\n",
    "rfm_r.head()\n"
   ]
  },
  {
   "cell_type": "code",
   "execution_count": 9,
   "metadata": {},
   "outputs": [
    {
     "data": {
      "text/html": [
       "<div>\n",
       "<style scoped>\n",
       "    .dataframe tbody tr th:only-of-type {\n",
       "        vertical-align: middle;\n",
       "    }\n",
       "\n",
       "    .dataframe tbody tr th {\n",
       "        vertical-align: top;\n",
       "    }\n",
       "\n",
       "    .dataframe thead th {\n",
       "        text-align: right;\n",
       "    }\n",
       "</style>\n",
       "<table border=\"1\" class=\"dataframe\">\n",
       "  <thead>\n",
       "    <tr style=\"text-align: right;\">\n",
       "      <th></th>\n",
       "      <th>user_id</th>\n",
       "      <th>Monetary</th>\n",
       "      <th>Frequency</th>\n",
       "      <th>Recency</th>\n",
       "    </tr>\n",
       "  </thead>\n",
       "  <tbody>\n",
       "    <tr>\n",
       "      <th>0</th>\n",
       "      <td>++2u4Q40bTeC0ZZDau1MIQ==</td>\n",
       "      <td>1082000</td>\n",
       "      <td>1</td>\n",
       "      <td>0</td>\n",
       "    </tr>\n",
       "    <tr>\n",
       "      <th>1</th>\n",
       "      <td>++HwHhPvBHtXEIN36fDT5w==</td>\n",
       "      <td>1414000</td>\n",
       "      <td>1</td>\n",
       "      <td>1</td>\n",
       "    </tr>\n",
       "    <tr>\n",
       "      <th>2</th>\n",
       "      <td>++IfjhhQ33j7i4NHdBUJkQ==</td>\n",
       "      <td>990000</td>\n",
       "      <td>1</td>\n",
       "      <td>7</td>\n",
       "    </tr>\n",
       "    <tr>\n",
       "      <th>3</th>\n",
       "      <td>++KPSp+1ZC6KXlYAS8VcKg==</td>\n",
       "      <td>1690500</td>\n",
       "      <td>1</td>\n",
       "      <td>6</td>\n",
       "    </tr>\n",
       "    <tr>\n",
       "      <th>4</th>\n",
       "      <td>++XCbp2ChGJyYhM/fYWudg==</td>\n",
       "      <td>1150000</td>\n",
       "      <td>1</td>\n",
       "      <td>8</td>\n",
       "    </tr>\n",
       "  </tbody>\n",
       "</table>\n",
       "</div>"
      ],
      "text/plain": [
       "                    user_id  Monetary  Frequency  Recency\n",
       "0  ++2u4Q40bTeC0ZZDau1MIQ==   1082000          1        0\n",
       "1  ++HwHhPvBHtXEIN36fDT5w==   1414000          1        1\n",
       "2  ++IfjhhQ33j7i4NHdBUJkQ==    990000          1        7\n",
       "3  ++KPSp+1ZC6KXlYAS8VcKg==   1690500          1        6\n",
       "4  ++XCbp2ChGJyYhM/fYWudg==   1150000          1        8"
      ]
     },
     "execution_count": 9,
     "metadata": {},
     "output_type": "execute_result"
    }
   ],
   "source": [
    "# Merging the two dfs\n",
    "\n",
    "rfm = pd.merge(rfm_m, rfm_f, on='user_id', how='inner')\n",
    "rfm = pd.merge(rfm, rfm_r, on='user_id', how='inner')\n",
    "\n",
    "rfm.head()"
   ]
  },
  {
   "cell_type": "code",
   "execution_count": 10,
   "metadata": {},
   "outputs": [],
   "source": [
    "# Removing (statistical) outliers for attribute\n",
    "all_attributes = ['Monetary','Frequency','Recency']\n",
    "for attribute in all_attributes:\n",
    "    Q1 = rfm[attribute].quantile(0.05)\n",
    "    Q3 = rfm[attribute].quantile(0.95)\n",
    "    IQR = Q3 - Q1\n",
    "    rfm = rfm[(rfm[attribute] >= Q1 - 1.5*IQR) & (rfm[attribute] <= Q3 + 1.5*IQR)]"
   ]
  },
  {
   "cell_type": "code",
   "execution_count": 11,
   "metadata": {},
   "outputs": [
    {
     "data": {
      "text/plain": [
       "(55133, 4)"
      ]
     },
     "execution_count": 11,
     "metadata": {},
     "output_type": "execute_result"
    }
   ],
   "source": [
    "rfm.shape"
   ]
  },
  {
   "cell_type": "code",
   "execution_count": 12,
   "metadata": {},
   "outputs": [
    {
     "data": {
      "text/plain": [
       "(9928, 4)"
      ]
     },
     "execution_count": 12,
     "metadata": {},
     "output_type": "execute_result"
    }
   ],
   "source": [
    "rfm = rfm[rfm['Frequency']>=2]\n",
    "rfm.shape"
   ]
  },
  {
   "cell_type": "code",
   "execution_count": 13,
   "metadata": {},
   "outputs": [],
   "source": [
    "rfm_df = rfm[all_attributes]"
   ]
  },
  {
   "cell_type": "code",
   "execution_count": 14,
   "metadata": {},
   "outputs": [
    {
     "data": {
      "text/plain": [
       "(9928, 3)"
      ]
     },
     "execution_count": 14,
     "metadata": {},
     "output_type": "execute_result"
    }
   ],
   "source": [
    "rfm_df.shape"
   ]
  },
  {
   "cell_type": "code",
   "execution_count": 61,
   "metadata": {},
   "outputs": [
    {
     "data": {
      "text/html": [
       "<div>\n",
       "<style scoped>\n",
       "    .dataframe tbody tr th:only-of-type {\n",
       "        vertical-align: middle;\n",
       "    }\n",
       "\n",
       "    .dataframe tbody tr th {\n",
       "        vertical-align: top;\n",
       "    }\n",
       "\n",
       "    .dataframe thead th {\n",
       "        text-align: right;\n",
       "    }\n",
       "</style>\n",
       "<table border=\"1\" class=\"dataframe\">\n",
       "  <thead>\n",
       "    <tr style=\"text-align: right;\">\n",
       "      <th></th>\n",
       "      <th>Monetary</th>\n",
       "      <th>Frequency</th>\n",
       "      <th>Recency</th>\n",
       "    </tr>\n",
       "  </thead>\n",
       "  <tbody>\n",
       "    <tr>\n",
       "      <th>7</th>\n",
       "      <td>880000</td>\n",
       "      <td>2</td>\n",
       "      <td>5</td>\n",
       "    </tr>\n",
       "    <tr>\n",
       "      <th>8</th>\n",
       "      <td>7021000</td>\n",
       "      <td>2</td>\n",
       "      <td>0</td>\n",
       "    </tr>\n",
       "    <tr>\n",
       "      <th>14</th>\n",
       "      <td>19120000</td>\n",
       "      <td>3</td>\n",
       "      <td>1</td>\n",
       "    </tr>\n",
       "    <tr>\n",
       "      <th>38</th>\n",
       "      <td>7290000</td>\n",
       "      <td>2</td>\n",
       "      <td>0</td>\n",
       "    </tr>\n",
       "    <tr>\n",
       "      <th>39</th>\n",
       "      <td>1528800</td>\n",
       "      <td>2</td>\n",
       "      <td>3</td>\n",
       "    </tr>\n",
       "    <tr>\n",
       "      <th>...</th>\n",
       "      <td>...</td>\n",
       "      <td>...</td>\n",
       "      <td>...</td>\n",
       "    </tr>\n",
       "    <tr>\n",
       "      <th>56085</th>\n",
       "      <td>3183000</td>\n",
       "      <td>3</td>\n",
       "      <td>3</td>\n",
       "    </tr>\n",
       "    <tr>\n",
       "      <th>56087</th>\n",
       "      <td>2155000</td>\n",
       "      <td>2</td>\n",
       "      <td>7</td>\n",
       "    </tr>\n",
       "    <tr>\n",
       "      <th>56099</th>\n",
       "      <td>4981000</td>\n",
       "      <td>3</td>\n",
       "      <td>0</td>\n",
       "    </tr>\n",
       "    <tr>\n",
       "      <th>56100</th>\n",
       "      <td>1560000</td>\n",
       "      <td>3</td>\n",
       "      <td>6</td>\n",
       "    </tr>\n",
       "    <tr>\n",
       "      <th>56103</th>\n",
       "      <td>5935000</td>\n",
       "      <td>3</td>\n",
       "      <td>0</td>\n",
       "    </tr>\n",
       "  </tbody>\n",
       "</table>\n",
       "<p>9928 rows × 3 columns</p>\n",
       "</div>"
      ],
      "text/plain": [
       "       Monetary  Frequency  Recency\n",
       "7        880000          2        5\n",
       "8       7021000          2        0\n",
       "14     19120000          3        1\n",
       "38      7290000          2        0\n",
       "39      1528800          2        3\n",
       "...         ...        ...      ...\n",
       "56085   3183000          3        3\n",
       "56087   2155000          2        7\n",
       "56099   4981000          3        0\n",
       "56100   1560000          3        6\n",
       "56103   5935000          3        0\n",
       "\n",
       "[9928 rows x 3 columns]"
      ]
     },
     "execution_count": 61,
     "metadata": {},
     "output_type": "execute_result"
    }
   ],
   "source": []
  },
  {
   "cell_type": "code",
   "execution_count": 15,
   "metadata": {},
   "outputs": [
    {
     "data": {
      "text/plain": [
       "(9928, 3)"
      ]
     },
     "execution_count": 15,
     "metadata": {},
     "output_type": "execute_result"
    }
   ],
   "source": [
    "# Instantiate\n",
    "scaler = StandardScaler()\n",
    "\n",
    "# fit_transform\n",
    "rfm_df_scaled = scaler.fit_transform(rfm_df)\n",
    "rfm_df_scaled.shape"
   ]
  },
  {
   "cell_type": "code",
   "execution_count": 62,
   "metadata": {},
   "outputs": [
    {
     "data": {
      "text/plain": [
       "(9928, 5)"
      ]
     },
     "execution_count": 62,
     "metadata": {},
     "output_type": "execute_result"
    }
   ],
   "source": []
  },
  {
   "cell_type": "markdown",
   "metadata": {},
   "source": [
    "# Building the Model\n"
   ]
  },
  {
   "cell_type": "code",
   "execution_count": 16,
   "metadata": {},
   "outputs": [],
   "source": [
    "CLUSTERING = 3"
   ]
  },
  {
   "cell_type": "code",
   "execution_count": 17,
   "metadata": {},
   "outputs": [
    {
     "data": {
      "text/plain": [
       "KMeans(max_iter=50, n_clusters=3)"
      ]
     },
     "execution_count": 17,
     "metadata": {},
     "output_type": "execute_result"
    }
   ],
   "source": [
    "# k-means with some arbitrary k\n",
    "\n",
    "kmeans = KMeans(n_clusters=CLUSTERING, max_iter=50)\n",
    "kmeans.fit(rfm_df_scaled)"
   ]
  },
  {
   "cell_type": "code",
   "execution_count": 18,
   "metadata": {},
   "outputs": [
    {
     "data": {
      "text/html": [
       "<div>\n",
       "<style scoped>\n",
       "    .dataframe tbody tr th:only-of-type {\n",
       "        vertical-align: middle;\n",
       "    }\n",
       "\n",
       "    .dataframe tbody tr th {\n",
       "        vertical-align: top;\n",
       "    }\n",
       "\n",
       "    .dataframe thead th {\n",
       "        text-align: right;\n",
       "    }\n",
       "</style>\n",
       "<table border=\"1\" class=\"dataframe\">\n",
       "  <thead>\n",
       "    <tr style=\"text-align: right;\">\n",
       "      <th></th>\n",
       "      <th>user_id</th>\n",
       "      <th>Monetary</th>\n",
       "      <th>Frequency</th>\n",
       "      <th>Recency</th>\n",
       "      <th>Cluster_Id</th>\n",
       "    </tr>\n",
       "  </thead>\n",
       "  <tbody>\n",
       "    <tr>\n",
       "      <th>7</th>\n",
       "      <td>++aFMHHDKluZF2DJXQ4VVg==</td>\n",
       "      <td>880000</td>\n",
       "      <td>2</td>\n",
       "      <td>5</td>\n",
       "      <td>1</td>\n",
       "    </tr>\n",
       "    <tr>\n",
       "      <th>8</th>\n",
       "      <td>++fz+vTHQnkgPIU4nFLwqg==</td>\n",
       "      <td>7021000</td>\n",
       "      <td>2</td>\n",
       "      <td>0</td>\n",
       "      <td>2</td>\n",
       "    </tr>\n",
       "    <tr>\n",
       "      <th>14</th>\n",
       "      <td>+/4x52C5GE58tU5a4oiIoA==</td>\n",
       "      <td>19120000</td>\n",
       "      <td>3</td>\n",
       "      <td>1</td>\n",
       "      <td>0</td>\n",
       "    </tr>\n",
       "    <tr>\n",
       "      <th>38</th>\n",
       "      <td>+0NLplvuXBK8B57SSP/BPw==</td>\n",
       "      <td>7290000</td>\n",
       "      <td>2</td>\n",
       "      <td>0</td>\n",
       "      <td>2</td>\n",
       "    </tr>\n",
       "    <tr>\n",
       "      <th>39</th>\n",
       "      <td>+0PlX9fbkOLljCIpz6XPLw==</td>\n",
       "      <td>1528800</td>\n",
       "      <td>2</td>\n",
       "      <td>3</td>\n",
       "      <td>2</td>\n",
       "    </tr>\n",
       "  </tbody>\n",
       "</table>\n",
       "</div>"
      ],
      "text/plain": [
       "                     user_id  Monetary  Frequency  Recency  Cluster_Id\n",
       "7   ++aFMHHDKluZF2DJXQ4VVg==    880000          2        5           1\n",
       "8   ++fz+vTHQnkgPIU4nFLwqg==   7021000          2        0           2\n",
       "14  +/4x52C5GE58tU5a4oiIoA==  19120000          3        1           0\n",
       "38  +0NLplvuXBK8B57SSP/BPw==   7290000          2        0           2\n",
       "39  +0PlX9fbkOLljCIpz6XPLw==   1528800          2        3           2"
      ]
     },
     "execution_count": 18,
     "metadata": {},
     "output_type": "execute_result"
    }
   ],
   "source": [
    "rfm['Cluster_Id'] = kmeans.labels_\n",
    "rfm.head()"
   ]
  },
  {
   "cell_type": "code",
   "execution_count": 63,
   "metadata": {},
   "outputs": [
    {
     "name": "stdout",
     "output_type": "stream",
     "text": [
      "<class 'pandas.core.frame.DataFrame'>\n",
      "Int64Index: 9928 entries, 7 to 56103\n",
      "Data columns (total 5 columns):\n",
      " #   Column      Non-Null Count  Dtype \n",
      "---  ------      --------------  ----- \n",
      " 0   user_id     9928 non-null   object\n",
      " 1   Monetary    9928 non-null   int64 \n",
      " 2   Frequency   9928 non-null   int64 \n",
      " 3   Recency     9928 non-null   int64 \n",
      " 4   Cluster_Id  9928 non-null   int32 \n",
      "dtypes: int32(1), int64(3), object(1)\n",
      "memory usage: 426.6+ KB\n"
     ]
    }
   ],
   "source": [
    "rfm.info()"
   ]
  },
  {
   "cell_type": "code",
   "execution_count": 65,
   "metadata": {},
   "outputs": [
    {
     "data": {
      "text/html": [
       "<div>\n",
       "<style scoped>\n",
       "    .dataframe tbody tr th:only-of-type {\n",
       "        vertical-align: middle;\n",
       "    }\n",
       "\n",
       "    .dataframe tbody tr th {\n",
       "        vertical-align: top;\n",
       "    }\n",
       "\n",
       "    .dataframe thead th {\n",
       "        text-align: right;\n",
       "    }\n",
       "</style>\n",
       "<table border=\"1\" class=\"dataframe\">\n",
       "  <thead>\n",
       "    <tr style=\"text-align: right;\">\n",
       "      <th></th>\n",
       "      <th>Monetary</th>\n",
       "      <th>Frequency</th>\n",
       "      <th>Recency</th>\n",
       "    </tr>\n",
       "    <tr>\n",
       "      <th>Cluster_Id</th>\n",
       "      <th></th>\n",
       "      <th></th>\n",
       "      <th></th>\n",
       "    </tr>\n",
       "  </thead>\n",
       "  <tbody>\n",
       "    <tr>\n",
       "      <th>0</th>\n",
       "      <td>14858120.44</td>\n",
       "      <td>3.77</td>\n",
       "      <td>1.48</td>\n",
       "    </tr>\n",
       "    <tr>\n",
       "      <th>1</th>\n",
       "      <td>4781080.33</td>\n",
       "      <td>2.14</td>\n",
       "      <td>5.55</td>\n",
       "    </tr>\n",
       "    <tr>\n",
       "      <th>2</th>\n",
       "      <td>4318597.74</td>\n",
       "      <td>2.19</td>\n",
       "      <td>1.23</td>\n",
       "    </tr>\n",
       "  </tbody>\n",
       "</table>\n",
       "</div>"
      ],
      "text/plain": [
       "              Monetary  Frequency  Recency\n",
       "Cluster_Id                                \n",
       "0          14858120.44       3.77     1.48\n",
       "1           4781080.33       2.14     5.55\n",
       "2           4318597.74       2.19     1.23"
      ]
     },
     "execution_count": 65,
     "metadata": {},
     "output_type": "execute_result"
    }
   ],
   "source": [
    "rfm.groupby('Cluster_Id').mean()"
   ]
  },
  {
   "cell_type": "code",
   "execution_count": 19,
   "metadata": {},
   "outputs": [
    {
     "data": {
      "text/plain": [
       "<AxesSubplot:xlabel='Cluster_Id', ylabel='Monetary'>"
      ]
     },
     "execution_count": 19,
     "metadata": {},
     "output_type": "execute_result"
    },
    {
     "data": {
      "image/png": "[encoded data removed]",
      "text/plain": [
       "<Figure size 432x288 with 1 Axes>"
      ]
     },
     "metadata": {},
     "output_type": "display_data"
    }
   ],
   "source": [
    "sns.set_style('whitegrid')\n",
    "sns.boxplot(x='Cluster_Id',y='Monetary',data=rfm )\n",
    "sns.stripplot(x=\"Cluster_Id\", y=\"Monetary\",data=rfm,   alpha=0.2 )"
   ]
  },
  {
   "cell_type": "code",
   "execution_count": 20,
   "metadata": {},
   "outputs": [
    {
     "data": {
      "text/plain": [
       "<AxesSubplot:xlabel='Cluster_Id', ylabel='Frequency'>"
      ]
     },
     "execution_count": 20,
     "metadata": {},
     "output_type": "execute_result"
    },
    {
     "data": {
      "image/png": "[encoded data removed]",
      "text/plain": [
       "<Figure size 432x288 with 1 Axes>"
      ]
     },
     "metadata": {},
     "output_type": "display_data"
    }
   ],
   "source": [
    "sns.set_style('whitegrid')\n",
    "sns.boxplot(x='Cluster_Id',y='Frequency',data=rfm )\n",
    "sns.stripplot(x=\"Cluster_Id\", y=\"Frequency\",data=rfm,   alpha=0.2 )"
   ]
  },
  {
   "cell_type": "code",
   "execution_count": 21,
   "metadata": {},
   "outputs": [
    {
     "data": {
      "text/plain": [
       "<AxesSubplot:xlabel='Cluster_Id', ylabel='Recency'>"
      ]
     },
     "execution_count": 21,
     "metadata": {},
     "output_type": "execute_result"
    },
    {
     "data": {
      "image/png": "[encoded data removed]",
      "text/plain": [
       "<Figure size 432x288 with 1 Axes>"
      ]
     },
     "metadata": {},
     "output_type": "display_data"
    }
   ],
   "source": [
    "sns.set_style('whitegrid')\n",
    "sns.boxplot(x='Cluster_Id',y='Recency',data=rfm )\n",
    "sns.stripplot(x=\"Cluster_Id\", y=\"Recency\",data=rfm,   alpha=0.2 )"
   ]
  },
  {
   "cell_type": "code",
   "execution_count": 22,
   "metadata": {},
   "outputs": [
    {
     "data": {
      "text/plain": [
       "2    5637\n",
       "1    2602\n",
       "0    1689\n",
       "Name: Cluster_Id, dtype: int64"
      ]
     },
     "execution_count": 22,
     "metadata": {},
     "output_type": "execute_result"
    }
   ],
   "source": [
    "rfm['Cluster_Id'].value_counts()"
   ]
  },
  {
   "cell_type": "code",
   "execution_count": 59,
   "metadata": {},
   "outputs": [
    {
     "data": {
      "text/plain": [
       "Cluster_Id\n",
       "0   14858120.44\n",
       "1    4781080.33\n",
       "2    4318597.74\n",
       "Name: Monetary, dtype: float64"
      ]
     },
     "execution_count": 59,
     "metadata": {},
     "output_type": "execute_result"
    }
   ],
   "source": [
    "rfm.groupby('Cluster_Id').Monetary.mean()"
   ]
  },
  {
   "cell_type": "code",
   "execution_count": 23,
   "metadata": {},
   "outputs": [
    {
     "data": {
      "text/html": [
       "<div>\n",
       "<style scoped>\n",
       "    .dataframe tbody tr th:only-of-type {\n",
       "        vertical-align: middle;\n",
       "    }\n",
       "\n",
       "    .dataframe tbody tr th {\n",
       "        vertical-align: top;\n",
       "    }\n",
       "\n",
       "    .dataframe thead th {\n",
       "        text-align: right;\n",
       "    }\n",
       "</style>\n",
       "<table border=\"1\" class=\"dataframe\">\n",
       "  <thead>\n",
       "    <tr style=\"text-align: right;\">\n",
       "      <th></th>\n",
       "      <th>order_id</th>\n",
       "      <th>user_id</th>\n",
       "      <th>variant_id</th>\n",
       "      <th>product_id</th>\n",
       "      <th>quantity</th>\n",
       "      <th>price</th>\n",
       "      <th>date</th>\n",
       "      <th>city_id</th>\n",
       "      <th>city_name</th>\n",
       "      <th>state_id</th>\n",
       "      <th>state_name</th>\n",
       "      <th>Monetary</th>\n",
       "      <th>Diff</th>\n",
       "    </tr>\n",
       "  </thead>\n",
       "  <tbody>\n",
       "    <tr>\n",
       "      <th>0</th>\n",
       "      <td>262108413</td>\n",
       "      <td>SlcW7YT835JSzh22o7zRCA==</td>\n",
       "      <td>922274</td>\n",
       "      <td>406523</td>\n",
       "      <td>1</td>\n",
       "      <td>139000</td>\n",
       "      <td>2018-08-20 23:59:02</td>\n",
       "      <td>1698</td>\n",
       "      <td>تهران</td>\n",
       "      <td>9</td>\n",
       "      <td>تهران</td>\n",
       "      <td>139000</td>\n",
       "      <td>0 days</td>\n",
       "    </tr>\n",
       "  </tbody>\n",
       "</table>\n",
       "</div>"
      ],
      "text/plain": [
       "    order_id                   user_id  variant_id  product_id  quantity  \\\n",
       "0  262108413  SlcW7YT835JSzh22o7zRCA==      922274      406523         1   \n",
       "\n",
       "    price                date  city_id city_name  state_id state_name  \\\n",
       "0  139000 2018-08-20 23:59:02     1698     تهران         9      تهران   \n",
       "\n",
       "   Monetary   Diff  \n",
       "0    139000 0 days  "
      ]
     },
     "execution_count": 23,
     "metadata": {},
     "output_type": "execute_result"
    }
   ],
   "source": [
    "retail[retail['user_id'].isin(rfm[rfm['Cluster_Id']==0]['user_id'])].head(1)"
   ]
  },
  {
   "cell_type": "code",
   "execution_count": 26,
   "metadata": {},
   "outputs": [],
   "source": [
    "cluster_members = []"
   ]
  },
  {
   "cell_type": "code",
   "execution_count": 27,
   "metadata": {},
   "outputs": [],
   "source": [
    "for i in range(CLUSTERING):\n",
    "    cluster_members.append(retail[retail['user_id'].isin(rfm[rfm['Cluster_Id'] == i ]['user_id'])])"
   ]
  },
  {
   "cell_type": "code",
   "execution_count": 30,
   "metadata": {},
   "outputs": [
    {
     "data": {
      "text/html": [
       "<div>\n",
       "<style scoped>\n",
       "    .dataframe tbody tr th:only-of-type {\n",
       "        vertical-align: middle;\n",
       "    }\n",
       "\n",
       "    .dataframe tbody tr th {\n",
       "        vertical-align: top;\n",
       "    }\n",
       "\n",
       "    .dataframe thead th {\n",
       "        text-align: right;\n",
       "    }\n",
       "</style>\n",
       "<table border=\"1\" class=\"dataframe\">\n",
       "  <thead>\n",
       "    <tr style=\"text-align: right;\">\n",
       "      <th>product_id</th>\n",
       "      <th>1482</th>\n",
       "      <th>2157</th>\n",
       "      <th>2854</th>\n",
       "      <th>3288</th>\n",
       "      <th>3914</th>\n",
       "      <th>4486</th>\n",
       "      <th>4822</th>\n",
       "      <th>5165</th>\n",
       "      <th>5256</th>\n",
       "      <th>5289</th>\n",
       "      <th>...</th>\n",
       "      <th>763143</th>\n",
       "      <th>763175</th>\n",
       "      <th>763202</th>\n",
       "      <th>763212</th>\n",
       "      <th>763278</th>\n",
       "      <th>763470</th>\n",
       "      <th>764412</th>\n",
       "      <th>765117</th>\n",
       "      <th>766245</th>\n",
       "      <th>767740</th>\n",
       "    </tr>\n",
       "    <tr>\n",
       "      <th>user_id</th>\n",
       "      <th></th>\n",
       "      <th></th>\n",
       "      <th></th>\n",
       "      <th></th>\n",
       "      <th></th>\n",
       "      <th></th>\n",
       "      <th></th>\n",
       "      <th></th>\n",
       "      <th></th>\n",
       "      <th></th>\n",
       "      <th></th>\n",
       "      <th></th>\n",
       "      <th></th>\n",
       "      <th></th>\n",
       "      <th></th>\n",
       "      <th></th>\n",
       "      <th></th>\n",
       "      <th></th>\n",
       "      <th></th>\n",
       "      <th></th>\n",
       "      <th></th>\n",
       "    </tr>\n",
       "  </thead>\n",
       "  <tbody>\n",
       "    <tr>\n",
       "      <th>+/4x52C5GE58tU5a4oiIoA==</th>\n",
       "      <td>0</td>\n",
       "      <td>0</td>\n",
       "      <td>0</td>\n",
       "      <td>0</td>\n",
       "      <td>0</td>\n",
       "      <td>0</td>\n",
       "      <td>0</td>\n",
       "      <td>0</td>\n",
       "      <td>0</td>\n",
       "      <td>0</td>\n",
       "      <td>...</td>\n",
       "      <td>0</td>\n",
       "      <td>0</td>\n",
       "      <td>0</td>\n",
       "      <td>0</td>\n",
       "      <td>0</td>\n",
       "      <td>0</td>\n",
       "      <td>0</td>\n",
       "      <td>0</td>\n",
       "      <td>0</td>\n",
       "      <td>0</td>\n",
       "    </tr>\n",
       "    <tr>\n",
       "      <th>+0Z8Z8H1GzgQNkXLT1XZOQ==</th>\n",
       "      <td>0</td>\n",
       "      <td>0</td>\n",
       "      <td>0</td>\n",
       "      <td>0</td>\n",
       "      <td>0</td>\n",
       "      <td>0</td>\n",
       "      <td>0</td>\n",
       "      <td>0</td>\n",
       "      <td>0</td>\n",
       "      <td>0</td>\n",
       "      <td>...</td>\n",
       "      <td>0</td>\n",
       "      <td>0</td>\n",
       "      <td>0</td>\n",
       "      <td>0</td>\n",
       "      <td>0</td>\n",
       "      <td>0</td>\n",
       "      <td>0</td>\n",
       "      <td>0</td>\n",
       "      <td>0</td>\n",
       "      <td>0</td>\n",
       "    </tr>\n",
       "    <tr>\n",
       "      <th>+2aNkBTZn8DfF2sk4heGpQ==</th>\n",
       "      <td>0</td>\n",
       "      <td>0</td>\n",
       "      <td>0</td>\n",
       "      <td>0</td>\n",
       "      <td>0</td>\n",
       "      <td>0</td>\n",
       "      <td>0</td>\n",
       "      <td>0</td>\n",
       "      <td>0</td>\n",
       "      <td>0</td>\n",
       "      <td>...</td>\n",
       "      <td>0</td>\n",
       "      <td>0</td>\n",
       "      <td>0</td>\n",
       "      <td>0</td>\n",
       "      <td>0</td>\n",
       "      <td>0</td>\n",
       "      <td>0</td>\n",
       "      <td>0</td>\n",
       "      <td>0</td>\n",
       "      <td>0</td>\n",
       "    </tr>\n",
       "    <tr>\n",
       "      <th>+4DlQFQ4veXWhw9z1aGEFw==</th>\n",
       "      <td>0</td>\n",
       "      <td>0</td>\n",
       "      <td>0</td>\n",
       "      <td>0</td>\n",
       "      <td>0</td>\n",
       "      <td>0</td>\n",
       "      <td>0</td>\n",
       "      <td>0</td>\n",
       "      <td>0</td>\n",
       "      <td>0</td>\n",
       "      <td>...</td>\n",
       "      <td>0</td>\n",
       "      <td>0</td>\n",
       "      <td>0</td>\n",
       "      <td>0</td>\n",
       "      <td>0</td>\n",
       "      <td>0</td>\n",
       "      <td>0</td>\n",
       "      <td>0</td>\n",
       "      <td>0</td>\n",
       "      <td>0</td>\n",
       "    </tr>\n",
       "    <tr>\n",
       "      <th>+EukDLC1vahipDOtWd8ApQ==</th>\n",
       "      <td>0</td>\n",
       "      <td>0</td>\n",
       "      <td>0</td>\n",
       "      <td>0</td>\n",
       "      <td>0</td>\n",
       "      <td>0</td>\n",
       "      <td>0</td>\n",
       "      <td>0</td>\n",
       "      <td>0</td>\n",
       "      <td>0</td>\n",
       "      <td>...</td>\n",
       "      <td>0</td>\n",
       "      <td>0</td>\n",
       "      <td>0</td>\n",
       "      <td>0</td>\n",
       "      <td>0</td>\n",
       "      <td>0</td>\n",
       "      <td>0</td>\n",
       "      <td>0</td>\n",
       "      <td>0</td>\n",
       "      <td>0</td>\n",
       "    </tr>\n",
       "    <tr>\n",
       "      <th>...</th>\n",
       "      <td>...</td>\n",
       "      <td>...</td>\n",
       "      <td>...</td>\n",
       "      <td>...</td>\n",
       "      <td>...</td>\n",
       "      <td>...</td>\n",
       "      <td>...</td>\n",
       "      <td>...</td>\n",
       "      <td>...</td>\n",
       "      <td>...</td>\n",
       "      <td>...</td>\n",
       "      <td>...</td>\n",
       "      <td>...</td>\n",
       "      <td>...</td>\n",
       "      <td>...</td>\n",
       "      <td>...</td>\n",
       "      <td>...</td>\n",
       "      <td>...</td>\n",
       "      <td>...</td>\n",
       "      <td>...</td>\n",
       "      <td>...</td>\n",
       "    </tr>\n",
       "    <tr>\n",
       "      <th>zgHPNS3i8dBAR0OUTNtaeg==</th>\n",
       "      <td>0</td>\n",
       "      <td>0</td>\n",
       "      <td>0</td>\n",
       "      <td>0</td>\n",
       "      <td>0</td>\n",
       "      <td>0</td>\n",
       "      <td>0</td>\n",
       "      <td>0</td>\n",
       "      <td>0</td>\n",
       "      <td>0</td>\n",
       "      <td>...</td>\n",
       "      <td>0</td>\n",
       "      <td>0</td>\n",
       "      <td>0</td>\n",
       "      <td>0</td>\n",
       "      <td>0</td>\n",
       "      <td>0</td>\n",
       "      <td>0</td>\n",
       "      <td>0</td>\n",
       "      <td>0</td>\n",
       "      <td>0</td>\n",
       "    </tr>\n",
       "    <tr>\n",
       "      <th>zmdSHt5Euoo5GTAmnBtIlw==</th>\n",
       "      <td>0</td>\n",
       "      <td>0</td>\n",
       "      <td>0</td>\n",
       "      <td>0</td>\n",
       "      <td>0</td>\n",
       "      <td>0</td>\n",
       "      <td>0</td>\n",
       "      <td>0</td>\n",
       "      <td>0</td>\n",
       "      <td>0</td>\n",
       "      <td>...</td>\n",
       "      <td>0</td>\n",
       "      <td>0</td>\n",
       "      <td>0</td>\n",
       "      <td>0</td>\n",
       "      <td>0</td>\n",
       "      <td>0</td>\n",
       "      <td>0</td>\n",
       "      <td>0</td>\n",
       "      <td>0</td>\n",
       "      <td>0</td>\n",
       "    </tr>\n",
       "    <tr>\n",
       "      <th>zpVb2X0nd2IO49aDoG07ow==</th>\n",
       "      <td>0</td>\n",
       "      <td>0</td>\n",
       "      <td>0</td>\n",
       "      <td>0</td>\n",
       "      <td>0</td>\n",
       "      <td>0</td>\n",
       "      <td>0</td>\n",
       "      <td>0</td>\n",
       "      <td>0</td>\n",
       "      <td>0</td>\n",
       "      <td>...</td>\n",
       "      <td>0</td>\n",
       "      <td>0</td>\n",
       "      <td>0</td>\n",
       "      <td>0</td>\n",
       "      <td>0</td>\n",
       "      <td>0</td>\n",
       "      <td>0</td>\n",
       "      <td>0</td>\n",
       "      <td>0</td>\n",
       "      <td>0</td>\n",
       "    </tr>\n",
       "    <tr>\n",
       "      <th>zplQYrLIsyH3fuUERqQqFw==</th>\n",
       "      <td>0</td>\n",
       "      <td>0</td>\n",
       "      <td>0</td>\n",
       "      <td>0</td>\n",
       "      <td>0</td>\n",
       "      <td>0</td>\n",
       "      <td>0</td>\n",
       "      <td>0</td>\n",
       "      <td>0</td>\n",
       "      <td>0</td>\n",
       "      <td>...</td>\n",
       "      <td>0</td>\n",
       "      <td>0</td>\n",
       "      <td>0</td>\n",
       "      <td>0</td>\n",
       "      <td>0</td>\n",
       "      <td>0</td>\n",
       "      <td>0</td>\n",
       "      <td>0</td>\n",
       "      <td>0</td>\n",
       "      <td>0</td>\n",
       "    </tr>\n",
       "    <tr>\n",
       "      <th>zu30HSLlNctiVS3dJd9odA==</th>\n",
       "      <td>0</td>\n",
       "      <td>0</td>\n",
       "      <td>0</td>\n",
       "      <td>0</td>\n",
       "      <td>0</td>\n",
       "      <td>0</td>\n",
       "      <td>0</td>\n",
       "      <td>0</td>\n",
       "      <td>0</td>\n",
       "      <td>0</td>\n",
       "      <td>...</td>\n",
       "      <td>0</td>\n",
       "      <td>0</td>\n",
       "      <td>0</td>\n",
       "      <td>0</td>\n",
       "      <td>0</td>\n",
       "      <td>0</td>\n",
       "      <td>0</td>\n",
       "      <td>0</td>\n",
       "      <td>0</td>\n",
       "      <td>0</td>\n",
       "    </tr>\n",
       "  </tbody>\n",
       "</table>\n",
       "<p>1689 rows × 10665 columns</p>\n",
       "</div>"
      ],
      "text/plain": [
       "product_id                1482    2157    2854    3288    3914    4486    \\\n",
       "user_id                                                                    \n",
       "+/4x52C5GE58tU5a4oiIoA==       0       0       0       0       0       0   \n",
       "+0Z8Z8H1GzgQNkXLT1XZOQ==       0       0       0       0       0       0   \n",
       "+2aNkBTZn8DfF2sk4heGpQ==       0       0       0       0       0       0   \n",
       "+4DlQFQ4veXWhw9z1aGEFw==       0       0       0       0       0       0   \n",
       "+EukDLC1vahipDOtWd8ApQ==       0       0       0       0       0       0   \n",
       "...                          ...     ...     ...     ...     ...     ...   \n",
       "zgHPNS3i8dBAR0OUTNtaeg==       0       0       0       0       0       0   \n",
       "zmdSHt5Euoo5GTAmnBtIlw==       0       0       0       0       0       0   \n",
       "zpVb2X0nd2IO49aDoG07ow==       0       0       0       0       0       0   \n",
       "zplQYrLIsyH3fuUERqQqFw==       0       0       0       0       0       0   \n",
       "zu30HSLlNctiVS3dJd9odA==       0       0       0       0       0       0   \n",
       "\n",
       "product_id                4822    5165    5256    5289    ...  763143  763175  \\\n",
       "user_id                                                   ...                   \n",
       "+/4x52C5GE58tU5a4oiIoA==       0       0       0       0  ...       0       0   \n",
       "+0Z8Z8H1GzgQNkXLT1XZOQ==       0       0       0       0  ...       0       0   \n",
       "+2aNkBTZn8DfF2sk4heGpQ==       0       0       0       0  ...       0       0   \n",
       "+4DlQFQ4veXWhw9z1aGEFw==       0       0       0       0  ...       0       0   \n",
       "+EukDLC1vahipDOtWd8ApQ==       0       0       0       0  ...       0       0   \n",
       "...                          ...     ...     ...     ...  ...     ...     ...   \n",
       "zgHPNS3i8dBAR0OUTNtaeg==       0       0       0       0  ...       0       0   \n",
       "zmdSHt5Euoo5GTAmnBtIlw==       0       0       0       0  ...       0       0   \n",
       "zpVb2X0nd2IO49aDoG07ow==       0       0       0       0  ...       0       0   \n",
       "zplQYrLIsyH3fuUERqQqFw==       0       0       0       0  ...       0       0   \n",
       "zu30HSLlNctiVS3dJd9odA==       0       0       0       0  ...       0       0   \n",
       "\n",
       "product_id                763202  763212  763278  763470  764412  765117  \\\n",
       "user_id                                                                    \n",
       "+/4x52C5GE58tU5a4oiIoA==       0       0       0       0       0       0   \n",
       "+0Z8Z8H1GzgQNkXLT1XZOQ==       0       0       0       0       0       0   \n",
       "+2aNkBTZn8DfF2sk4heGpQ==       0       0       0       0       0       0   \n",
       "+4DlQFQ4veXWhw9z1aGEFw==       0       0       0       0       0       0   \n",
       "+EukDLC1vahipDOtWd8ApQ==       0       0       0       0       0       0   \n",
       "...                          ...     ...     ...     ...     ...     ...   \n",
       "zgHPNS3i8dBAR0OUTNtaeg==       0       0       0       0       0       0   \n",
       "zmdSHt5Euoo5GTAmnBtIlw==       0       0       0       0       0       0   \n",
       "zpVb2X0nd2IO49aDoG07ow==       0       0       0       0       0       0   \n",
       "zplQYrLIsyH3fuUERqQqFw==       0       0       0       0       0       0   \n",
       "zu30HSLlNctiVS3dJd9odA==       0       0       0       0       0       0   \n",
       "\n",
       "product_id                766245  767740  \n",
       "user_id                                   \n",
       "+/4x52C5GE58tU5a4oiIoA==       0       0  \n",
       "+0Z8Z8H1GzgQNkXLT1XZOQ==       0       0  \n",
       "+2aNkBTZn8DfF2sk4heGpQ==       0       0  \n",
       "+4DlQFQ4veXWhw9z1aGEFw==       0       0  \n",
       "+EukDLC1vahipDOtWd8ApQ==       0       0  \n",
       "...                          ...     ...  \n",
       "zgHPNS3i8dBAR0OUTNtaeg==       0       0  \n",
       "zmdSHt5Euoo5GTAmnBtIlw==       0       0  \n",
       "zpVb2X0nd2IO49aDoG07ow==       0       0  \n",
       "zplQYrLIsyH3fuUERqQqFw==       0       0  \n",
       "zu30HSLlNctiVS3dJd9odA==       0       0  \n",
       "\n",
       "[1689 rows x 10665 columns]"
      ]
     },
     "execution_count": 30,
     "metadata": {},
     "output_type": "execute_result"
    }
   ],
   "source": [
    "pivot_table = cluster_members[0].pivot_table(index = [\"user_id\"],columns = [\"product_id\"],values = \"quantity\",fill_value=0)\n",
    "pivot_table"
   ]
  },
  {
   "cell_type": "code",
   "execution_count": 32,
   "metadata": {},
   "outputs": [
    {
     "data": {
      "text/plain": [
       "product_id\n",
       "254341    1.000000\n",
       "5289      1.000000\n",
       "81067     0.000592\n",
       "199616   -0.000592\n",
       "624116   -0.000592\n",
       "dtype: float64"
      ]
     },
     "execution_count": 32,
     "metadata": {},
     "output_type": "execute_result"
    }
   ],
   "source": [
    "product_order = pivot_table[5289]\n",
    "similarity_with_other_product = pivot_table.corrwith(product_order)  \n",
    "similarity_with_other_product = similarity_with_other_product.sort_values(ascending=False)\n",
    "similarity_with_other_product.head()"
   ]
  },
  {
   "cell_type": "code",
   "execution_count": 46,
   "metadata": {},
   "outputs": [
    {
     "data": {
      "text/plain": [
       "product_id\n",
       "81067       220000.0\n",
       "199616      320000.0\n",
       "254341    26400000.0\n",
       "624116      135000.0\n",
       "Name: price, dtype: float64"
      ]
     },
     "execution_count": 46,
     "metadata": {},
     "output_type": "execute_result"
    }
   ],
   "source": [
    "retail[retail['product_id'].isin([254341,81067,199616,624116])].groupby('product_id').price.mean()"
   ]
  },
  {
   "cell_type": "code",
   "execution_count": 33,
   "metadata": {},
   "outputs": [],
   "source": [
    "pivot_table_1 = cluster_members[1].pivot_table(index = [\"user_id\"],columns = [\"product_id\"],values = \"quantity\",fill_value=0)"
   ]
  },
  {
   "cell_type": "code",
   "execution_count": 34,
   "metadata": {},
   "outputs": [
    {
     "data": {
      "text/plain": [
       "product_id\n",
       "5289      1.000000\n",
       "550916    0.706971\n",
       "549350    0.706971\n",
       "275266    0.706971\n",
       "551515    0.706971\n",
       "dtype: float64"
      ]
     },
     "execution_count": 34,
     "metadata": {},
     "output_type": "execute_result"
    }
   ],
   "source": [
    "product_order = pivot_table_1[5289]\n",
    "similarity_with_other_product = pivot_table_1.corrwith(product_order)  \n",
    "similarity_with_other_product = similarity_with_other_product.sort_values(ascending=False)\n",
    "similarity_with_other_product.head()"
   ]
  },
  {
   "cell_type": "code",
   "execution_count": 49,
   "metadata": {},
   "outputs": [
    {
     "data": {
      "text/plain": [
       "product_id\n",
       "275266   3150000.00\n",
       "549350    280000.00\n",
       "550916    200000.00\n",
       "551515    143333.33\n",
       "Name: price, dtype: float64"
      ]
     },
     "execution_count": 49,
     "metadata": {},
     "output_type": "execute_result"
    }
   ],
   "source": [
    "retail[retail['product_id'].isin([550916,549350,275266,551515])].groupby('product_id').price.mean()"
   ]
  },
  {
   "cell_type": "code",
   "execution_count": 35,
   "metadata": {},
   "outputs": [],
   "source": [
    "pivot_table_2 = cluster_members[2].pivot_table(index = [\"user_id\"],columns = [\"product_id\"],values = \"quantity\",fill_value=0)"
   ]
  },
  {
   "cell_type": "code",
   "execution_count": 36,
   "metadata": {
    "scrolled": true
   },
   "outputs": [
    {
     "data": {
      "text/plain": [
       "product_id\n",
       "5289      1.000000\n",
       "550118    0.707044\n",
       "715927    0.707044\n",
       "490464    0.707044\n",
       "338148    0.499823\n",
       "dtype: float64"
      ]
     },
     "execution_count": 36,
     "metadata": {},
     "output_type": "execute_result"
    }
   ],
   "source": [
    "product_order = pivot_table_2[5289]\n",
    "similarity_with_other_product = pivot_table_2.corrwith(product_order)  \n",
    "similarity_with_other_product = similarity_with_other_product.sort_values(ascending=False)\n",
    "similarity_with_other_product.head()"
   ]
  },
  {
   "cell_type": "code",
   "execution_count": 50,
   "metadata": {},
   "outputs": [
    {
     "data": {
      "text/plain": [
       "product_id\n",
       "338148    980000.00\n",
       "490464   1175000.00\n",
       "550118    391428.57\n",
       "715927    310000.00\n",
       "Name: price, dtype: float64"
      ]
     },
     "execution_count": 50,
     "metadata": {},
     "output_type": "execute_result"
    }
   ],
   "source": [
    "retail[retail['product_id'].isin([550118,715927,490464,338148])].groupby('product_id').price.mean()"
   ]
  },
  {
   "cell_type": "code",
   "execution_count": 38,
   "metadata": {},
   "outputs": [
    {
     "data": {
      "text/html": [
       "<div>\n",
       "<style scoped>\n",
       "    .dataframe tbody tr th:only-of-type {\n",
       "        vertical-align: middle;\n",
       "    }\n",
       "\n",
       "    .dataframe tbody tr th {\n",
       "        vertical-align: top;\n",
       "    }\n",
       "\n",
       "    .dataframe thead th {\n",
       "        text-align: right;\n",
       "    }\n",
       "</style>\n",
       "<table border=\"1\" class=\"dataframe\">\n",
       "  <thead>\n",
       "    <tr style=\"text-align: right;\">\n",
       "      <th></th>\n",
       "      <th>order_id</th>\n",
       "      <th>user_id</th>\n",
       "      <th>variant_id</th>\n",
       "      <th>product_id</th>\n",
       "      <th>quantity</th>\n",
       "      <th>price</th>\n",
       "      <th>date</th>\n",
       "      <th>city_id</th>\n",
       "      <th>city_name</th>\n",
       "      <th>state_id</th>\n",
       "      <th>state_name</th>\n",
       "      <th>Monetary</th>\n",
       "      <th>Diff</th>\n",
       "    </tr>\n",
       "  </thead>\n",
       "  <tbody>\n",
       "    <tr>\n",
       "      <th>119560</th>\n",
       "      <td>260059701</td>\n",
       "      <td>bQmdmm8gW2yhfMV0tm/7lw==</td>\n",
       "      <td>599082</td>\n",
       "      <td>254341</td>\n",
       "      <td>1</td>\n",
       "      <td>26400000</td>\n",
       "      <td>2018-08-15 16:58:36</td>\n",
       "      <td>2326</td>\n",
       "      <td>دهدشت</td>\n",
       "      <td>24</td>\n",
       "      <td>کهگیلویه و بویراحمد</td>\n",
       "      <td>26400000</td>\n",
       "      <td>5 days 07:00:26</td>\n",
       "    </tr>\n",
       "    <tr>\n",
       "      <th>148713</th>\n",
       "      <td>259608429</td>\n",
       "      <td>nwTy1Ni2EiwGzPPKv/45yQ==</td>\n",
       "      <td>599082</td>\n",
       "      <td>254341</td>\n",
       "      <td>1</td>\n",
       "      <td>26400000</td>\n",
       "      <td>2018-08-14 11:51:49</td>\n",
       "      <td>1698</td>\n",
       "      <td>تهران</td>\n",
       "      <td>9</td>\n",
       "      <td>تهران</td>\n",
       "      <td>26400000</td>\n",
       "      <td>6 days 12:07:13</td>\n",
       "    </tr>\n",
       "  </tbody>\n",
       "</table>\n",
       "</div>"
      ],
      "text/plain": [
       "         order_id                   user_id  variant_id  product_id  quantity  \\\n",
       "119560  260059701  bQmdmm8gW2yhfMV0tm/7lw==      599082      254341         1   \n",
       "148713  259608429  nwTy1Ni2EiwGzPPKv/45yQ==      599082      254341         1   \n",
       "\n",
       "           price                date  city_id city_name  state_id  \\\n",
       "119560  26400000 2018-08-15 16:58:36     2326     دهدشت        24   \n",
       "148713  26400000 2018-08-14 11:51:49     1698     تهران         9   \n",
       "\n",
       "                 state_name  Monetary            Diff  \n",
       "119560  کهگیلویه و بویراحمد  26400000 5 days 07:00:26  \n",
       "148713                تهران  26400000 6 days 12:07:13  "
      ]
     },
     "execution_count": 38,
     "metadata": {},
     "output_type": "execute_result"
    }
   ],
   "source": []
  },
  {
   "cell_type": "code",
   "execution_count": 53,
   "metadata": {},
   "outputs": [
    {
     "data": {
      "text/plain": [
       "713750.0"
      ]
     },
     "execution_count": 53,
     "metadata": {},
     "output_type": "execute_result"
    }
   ],
   "source": [
    "(390000+310000+1175000+980000)/4\n"
   ]
  },
  {
   "cell_type": "code",
   "execution_count": 54,
   "metadata": {},
   "outputs": [
    {
     "data": {
      "text/plain": [
       "942500.0"
      ]
     },
     "execution_count": 54,
     "metadata": {},
     "output_type": "execute_result"
    }
   ],
   "source": [
    "(200000+140000+3150000+280000)/4\n"
   ]
  },
  {
   "cell_type": "code",
   "execution_count": 56,
   "metadata": {},
   "outputs": [
    {
     "data": {
      "text/plain": [
       "797601.8594053704"
      ]
     },
     "execution_count": 56,
     "metadata": {},
     "output_type": "execute_result"
    }
   ],
   "source": [
    "cluster_members[1].price.mean()"
   ]
  },
  {
   "cell_type": "code",
   "execution_count": 57,
   "metadata": {},
   "outputs": [
    {
     "data": {
      "text/plain": [
       "626175.13877922"
      ]
     },
     "execution_count": 57,
     "metadata": {},
     "output_type": "execute_result"
    }
   ],
   "source": [
    "cluster_members[2].price.mean()"
   ]
  },
  {
   "cell_type": "code",
   "execution_count": null,
   "metadata": {},
   "outputs": [],
   "source": [
    "# pivot_table_main = retail.pivot_table(index = [\"user_id\"],columns = [\"product_id\"],values = \"quantity\",fill_value=0)"
   ]
  }
 ],
 "metadata": {
  "kernelspec": {
   "display_name": "Python 3",
   "language": "python",
   "name": "python3"
  },
  "language_info": {
   "codemirror_mode": {
    "name": "ipython",
    "version": 3
   },
   "file_extension": ".py",
   "mimetype": "text/x-python",
   "name": "python",
   "nbconvert_exporter": "python",
   "pygments_lexer": "ipython3",
   "version": "3.9.6"
  },
  "vscode": {
   "interpreter": {
    "hash": "c32ccb793d0d533ac6f9cdb4fca4ff568a51e7b533ecb36c84d3bd85c4e19740"
   }
  }
 },
 "nbformat": 4,
 "nbformat_minor": 4
}
